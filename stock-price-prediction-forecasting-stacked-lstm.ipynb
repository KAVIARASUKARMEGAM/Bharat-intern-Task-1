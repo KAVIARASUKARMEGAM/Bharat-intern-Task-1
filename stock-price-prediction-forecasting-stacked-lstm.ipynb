{
 "cells": [
  {
   "cell_type": "markdown",
   "metadata": {},
   "source": [
    "# <font color = 'darkblue' size = 6> BHARAT DATA SCIENCE INTERN </font>\n",
    "# <font color = 'brown' size = 5> TASK - 3 : STOCK PRICE PREDICTION BY USING LSTM </font>\n",
    "# <font color = 'b' size = 3> NAME : KAVIARASU KARMEGAM </font>\n",
    "\n",
    "\n"
   ]
  },
  {
   "cell_type": "markdown",
   "metadata": {},
   "source": [
    "<img src = stockk.jpg style = width:600;height:800>"
   ]
  },
  {
   "cell_type": "markdown",
   "metadata": {},
   "source": [
    "# <font color = red size = 4> IMPORT LIBRARIES"
   ]
  },
  {
   "cell_type": "code",
   "execution_count": 3,
   "metadata": {},
   "outputs": [
    {
     "name": "stdout",
     "output_type": "stream",
     "text": [
      "Defaulting to user installation because normal site-packages is not writeable\n",
      "Requirement already satisfied: tensorflow in c:\\users\\dell\\appdata\\roaming\\python\\python310\\site-packages (2.13.0)\n",
      "Requirement already satisfied: tensorflow-intel==2.13.0 in c:\\users\\dell\\appdata\\roaming\\python\\python310\\site-packages (from tensorflow) (2.13.0)\n",
      "Requirement already satisfied: libclang>=13.0.0 in c:\\users\\dell\\appdata\\roaming\\python\\python310\\site-packages (from tensorflow-intel==2.13.0->tensorflow) (16.0.6)\n",
      "Requirement already satisfied: absl-py>=1.0.0 in c:\\users\\dell\\appdata\\roaming\\python\\python310\\site-packages (from tensorflow-intel==2.13.0->tensorflow) (1.4.0)\n",
      "Requirement already satisfied: h5py>=2.9.0 in c:\\programdata\\anaconda3\\lib\\site-packages (from tensorflow-intel==2.13.0->tensorflow) (3.7.0)\n",
      "Requirement already satisfied: numpy<=1.24.3,>=1.22 in c:\\programdata\\anaconda3\\lib\\site-packages (from tensorflow-intel==2.13.0->tensorflow) (1.23.5)\n",
      "Requirement already satisfied: typing-extensions<4.6.0,>=3.6.6 in c:\\programdata\\anaconda3\\lib\\site-packages (from tensorflow-intel==2.13.0->tensorflow) (4.4.0)\n",
      "Requirement already satisfied: setuptools in c:\\programdata\\anaconda3\\lib\\site-packages (from tensorflow-intel==2.13.0->tensorflow) (65.6.3)\n",
      "Requirement already satisfied: keras<2.14,>=2.13.1 in c:\\users\\dell\\appdata\\roaming\\python\\python310\\site-packages (from tensorflow-intel==2.13.0->tensorflow) (2.13.1)\n",
      "Requirement already satisfied: protobuf!=4.21.0,!=4.21.1,!=4.21.2,!=4.21.3,!=4.21.4,!=4.21.5,<5.0.0dev,>=3.20.3 in c:\\users\\dell\\appdata\\roaming\\python\\python310\\site-packages (from tensorflow-intel==2.13.0->tensorflow) (4.24.3)\n",
      "Requirement already satisfied: tensorflow-estimator<2.14,>=2.13.0 in c:\\users\\dell\\appdata\\roaming\\python\\python310\\site-packages (from tensorflow-intel==2.13.0->tensorflow) (2.13.0)\n",
      "Requirement already satisfied: packaging in c:\\programdata\\anaconda3\\lib\\site-packages (from tensorflow-intel==2.13.0->tensorflow) (22.0)\n",
      "Requirement already satisfied: grpcio<2.0,>=1.24.3 in c:\\users\\dell\\appdata\\roaming\\python\\python310\\site-packages (from tensorflow-intel==2.13.0->tensorflow) (1.58.0)\n",
      "Requirement already satisfied: six>=1.12.0 in c:\\programdata\\anaconda3\\lib\\site-packages (from tensorflow-intel==2.13.0->tensorflow) (1.16.0)\n",
      "Requirement already satisfied: flatbuffers>=23.1.21 in c:\\users\\dell\\appdata\\roaming\\python\\python310\\site-packages (from tensorflow-intel==2.13.0->tensorflow) (23.5.26)\n",
      "Requirement already satisfied: tensorflow-io-gcs-filesystem>=0.23.1 in c:\\users\\dell\\appdata\\roaming\\python\\python310\\site-packages (from tensorflow-intel==2.13.0->tensorflow) (0.31.0)\n",
      "Requirement already satisfied: google-pasta>=0.1.1 in c:\\users\\dell\\appdata\\roaming\\python\\python310\\site-packages (from tensorflow-intel==2.13.0->tensorflow) (0.2.0)\n",
      "Requirement already satisfied: tensorboard<2.14,>=2.13 in c:\\users\\dell\\appdata\\roaming\\python\\python310\\site-packages (from tensorflow-intel==2.13.0->tensorflow) (2.13.0)\n",
      "Requirement already satisfied: wrapt>=1.11.0 in c:\\programdata\\anaconda3\\lib\\site-packages (from tensorflow-intel==2.13.0->tensorflow) (1.14.1)\n",
      "Requirement already satisfied: termcolor>=1.1.0 in c:\\users\\dell\\appdata\\roaming\\python\\python310\\site-packages (from tensorflow-intel==2.13.0->tensorflow) (2.3.0)\n",
      "Requirement already satisfied: astunparse>=1.6.0 in c:\\users\\dell\\appdata\\roaming\\python\\python310\\site-packages (from tensorflow-intel==2.13.0->tensorflow) (1.6.3)\n",
      "Requirement already satisfied: gast<=0.4.0,>=0.2.1 in c:\\users\\dell\\appdata\\roaming\\python\\python310\\site-packages (from tensorflow-intel==2.13.0->tensorflow) (0.4.0)\n",
      "Requirement already satisfied: opt-einsum>=2.3.2 in c:\\users\\dell\\appdata\\roaming\\python\\python310\\site-packages (from tensorflow-intel==2.13.0->tensorflow) (3.3.0)\n",
      "Requirement already satisfied: wheel<1.0,>=0.23.0 in c:\\programdata\\anaconda3\\lib\\site-packages (from astunparse>=1.6.0->tensorflow-intel==2.13.0->tensorflow) (0.38.4)\n",
      "Requirement already satisfied: markdown>=2.6.8 in c:\\programdata\\anaconda3\\lib\\site-packages (from tensorboard<2.14,>=2.13->tensorflow-intel==2.13.0->tensorflow) (3.4.1)\n",
      "Requirement already satisfied: werkzeug>=1.0.1 in c:\\programdata\\anaconda3\\lib\\site-packages (from tensorboard<2.14,>=2.13->tensorflow-intel==2.13.0->tensorflow) (2.2.2)\n",
      "Requirement already satisfied: google-auth-oauthlib<1.1,>=0.5 in c:\\users\\dell\\appdata\\roaming\\python\\python310\\site-packages (from tensorboard<2.14,>=2.13->tensorflow-intel==2.13.0->tensorflow) (1.0.0)\n",
      "Requirement already satisfied: google-auth<3,>=1.6.3 in c:\\users\\dell\\appdata\\roaming\\python\\python310\\site-packages (from tensorboard<2.14,>=2.13->tensorflow-intel==2.13.0->tensorflow) (2.23.0)\n",
      "Requirement already satisfied: requests<3,>=2.21.0 in c:\\programdata\\anaconda3\\lib\\site-packages (from tensorboard<2.14,>=2.13->tensorflow-intel==2.13.0->tensorflow) (2.28.1)\n",
      "Requirement already satisfied: tensorboard-data-server<0.8.0,>=0.7.0 in c:\\users\\dell\\appdata\\roaming\\python\\python310\\site-packages (from tensorboard<2.14,>=2.13->tensorflow-intel==2.13.0->tensorflow) (0.7.1)\n",
      "Requirement already satisfied: pyasn1-modules>=0.2.1 in c:\\programdata\\anaconda3\\lib\\site-packages (from google-auth<3,>=1.6.3->tensorboard<2.14,>=2.13->tensorflow-intel==2.13.0->tensorflow) (0.2.8)\n",
      "Requirement already satisfied: cachetools<6.0,>=2.0.0 in c:\\users\\dell\\appdata\\roaming\\python\\python310\\site-packages (from google-auth<3,>=1.6.3->tensorboard<2.14,>=2.13->tensorflow-intel==2.13.0->tensorflow) (5.3.1)\n",
      "Requirement already satisfied: rsa<5,>=3.1.4 in c:\\users\\dell\\appdata\\roaming\\python\\python310\\site-packages (from google-auth<3,>=1.6.3->tensorboard<2.14,>=2.13->tensorflow-intel==2.13.0->tensorflow) (4.9)\n",
      "Requirement already satisfied: urllib3<2.0 in c:\\programdata\\anaconda3\\lib\\site-packages (from google-auth<3,>=1.6.3->tensorboard<2.14,>=2.13->tensorflow-intel==2.13.0->tensorflow) (1.26.14)\n",
      "Requirement already satisfied: requests-oauthlib>=0.7.0 in c:\\users\\dell\\appdata\\roaming\\python\\python310\\site-packages (from google-auth-oauthlib<1.1,>=0.5->tensorboard<2.14,>=2.13->tensorflow-intel==2.13.0->tensorflow) (1.3.1)\n",
      "Requirement already satisfied: idna<4,>=2.5 in c:\\programdata\\anaconda3\\lib\\site-packages (from requests<3,>=2.21.0->tensorboard<2.14,>=2.13->tensorflow-intel==2.13.0->tensorflow) (3.4)\n",
      "Requirement already satisfied: certifi>=2017.4.17 in c:\\programdata\\anaconda3\\lib\\site-packages (from requests<3,>=2.21.0->tensorboard<2.14,>=2.13->tensorflow-intel==2.13.0->tensorflow) (2022.12.7)\n",
      "Requirement already satisfied: charset-normalizer<3,>=2 in c:\\programdata\\anaconda3\\lib\\site-packages (from requests<3,>=2.21.0->tensorboard<2.14,>=2.13->tensorflow-intel==2.13.0->tensorflow) (2.0.4)\n",
      "Requirement already satisfied: MarkupSafe>=2.1.1 in c:\\programdata\\anaconda3\\lib\\site-packages (from werkzeug>=1.0.1->tensorboard<2.14,>=2.13->tensorflow-intel==2.13.0->tensorflow) (2.1.1)\n",
      "Requirement already satisfied: pyasn1<0.5.0,>=0.4.6 in c:\\programdata\\anaconda3\\lib\\site-packages (from pyasn1-modules>=0.2.1->google-auth<3,>=1.6.3->tensorboard<2.14,>=2.13->tensorflow-intel==2.13.0->tensorflow) (0.4.8)\n",
      "Requirement already satisfied: oauthlib>=3.0.0 in c:\\users\\dell\\appdata\\roaming\\python\\python310\\site-packages (from requests-oauthlib>=0.7.0->google-auth-oauthlib<1.1,>=0.5->tensorboard<2.14,>=2.13->tensorflow-intel==2.13.0->tensorflow) (3.2.2)\n",
      "Note: you may need to restart the kernel to use updated packages.\n"
     ]
    }
   ],
   "source": [
    "pip install tensorflow"
   ]
  },
  {
   "cell_type": "code",
   "execution_count": 4,
   "metadata": {
    "execution": {
     "iopub.execute_input": "2021-06-06T18:00:37.733818Z",
     "iopub.status.busy": "2021-06-06T18:00:37.733404Z",
     "iopub.status.idle": "2021-06-06T18:00:43.634084Z",
     "shell.execute_reply": "2021-06-06T18:00:43.633234Z",
     "shell.execute_reply.started": "2021-06-06T18:00:37.733706Z"
    }
   },
   "outputs": [],
   "source": [
    "import pandas as pd\n",
    "import numpy as np\n",
    "import matplotlib.pyplot as plt\n",
    "from sklearn.preprocessing import MinMaxScaler\n",
    "from tensorflow.keras.models import Sequential\n",
    "from tensorflow.keras.layers import Dense\n",
    "from tensorflow.keras.layers import LSTM\n",
    "import tensorflow as tf\n",
    "import math\n",
    "from sklearn.metrics import mean_squared_error"
   ]
  },
  {
   "cell_type": "markdown",
   "metadata": {},
   "source": [
    "# <font color = 'red' size = 4 > READ THE DATASET </font>"
   ]
  },
  {
   "cell_type": "code",
   "execution_count": 6,
   "metadata": {
    "execution": {
     "iopub.execute_input": "2021-06-06T18:00:43.636536Z",
     "iopub.status.busy": "2021-06-06T18:00:43.636040Z",
     "iopub.status.idle": "2021-06-06T18:00:43.661297Z",
     "shell.execute_reply": "2021-06-06T18:00:43.660162Z",
     "shell.execute_reply.started": "2021-06-06T18:00:43.636500Z"
    }
   },
   "outputs": [],
   "source": [
    "data = pd.read_csv('Stock.csv')"
   ]
  },
  {
   "cell_type": "code",
   "execution_count": 7,
   "metadata": {
    "execution": {
     "iopub.execute_input": "2021-06-06T18:00:43.665222Z",
     "iopub.status.busy": "2021-06-06T18:00:43.664926Z",
     "iopub.status.idle": "2021-06-06T18:00:43.710121Z",
     "shell.execute_reply": "2021-06-06T18:00:43.706777Z",
     "shell.execute_reply.started": "2021-06-06T18:00:43.665194Z"
    }
   },
   "outputs": [
    {
     "data": {
      "text/html": [
       "<div>\n",
       "<style scoped>\n",
       "    .dataframe tbody tr th:only-of-type {\n",
       "        vertical-align: middle;\n",
       "    }\n",
       "\n",
       "    .dataframe tbody tr th {\n",
       "        vertical-align: top;\n",
       "    }\n",
       "\n",
       "    .dataframe thead th {\n",
       "        text-align: right;\n",
       "    }\n",
       "</style>\n",
       "<table border=\"1\" class=\"dataframe\">\n",
       "  <thead>\n",
       "    <tr style=\"text-align: right;\">\n",
       "      <th></th>\n",
       "      <th>Unnamed: 0</th>\n",
       "      <th>symbol</th>\n",
       "      <th>date</th>\n",
       "      <th>close</th>\n",
       "      <th>high</th>\n",
       "      <th>low</th>\n",
       "      <th>open</th>\n",
       "      <th>volume</th>\n",
       "      <th>adjClose</th>\n",
       "      <th>adjHigh</th>\n",
       "      <th>adjLow</th>\n",
       "      <th>adjOpen</th>\n",
       "      <th>adjVolume</th>\n",
       "      <th>divCash</th>\n",
       "      <th>splitFactor</th>\n",
       "    </tr>\n",
       "  </thead>\n",
       "  <tbody>\n",
       "    <tr>\n",
       "      <th>0</th>\n",
       "      <td>0</td>\n",
       "      <td>AAPL</td>\n",
       "      <td>2015-05-27 00:00:00+00:00</td>\n",
       "      <td>132.045</td>\n",
       "      <td>132.260</td>\n",
       "      <td>130.05</td>\n",
       "      <td>130.34</td>\n",
       "      <td>45833246</td>\n",
       "      <td>121.682558</td>\n",
       "      <td>121.880685</td>\n",
       "      <td>119.844118</td>\n",
       "      <td>120.111360</td>\n",
       "      <td>45833246</td>\n",
       "      <td>0.0</td>\n",
       "      <td>1.0</td>\n",
       "    </tr>\n",
       "    <tr>\n",
       "      <th>1</th>\n",
       "      <td>1</td>\n",
       "      <td>AAPL</td>\n",
       "      <td>2015-05-28 00:00:00+00:00</td>\n",
       "      <td>131.780</td>\n",
       "      <td>131.950</td>\n",
       "      <td>131.10</td>\n",
       "      <td>131.86</td>\n",
       "      <td>30733309</td>\n",
       "      <td>121.438354</td>\n",
       "      <td>121.595013</td>\n",
       "      <td>120.811718</td>\n",
       "      <td>121.512076</td>\n",
       "      <td>30733309</td>\n",
       "      <td>0.0</td>\n",
       "      <td>1.0</td>\n",
       "    </tr>\n",
       "    <tr>\n",
       "      <th>2</th>\n",
       "      <td>2</td>\n",
       "      <td>AAPL</td>\n",
       "      <td>2015-05-29 00:00:00+00:00</td>\n",
       "      <td>130.280</td>\n",
       "      <td>131.450</td>\n",
       "      <td>129.90</td>\n",
       "      <td>131.23</td>\n",
       "      <td>50884452</td>\n",
       "      <td>120.056069</td>\n",
       "      <td>121.134251</td>\n",
       "      <td>119.705890</td>\n",
       "      <td>120.931516</td>\n",
       "      <td>50884452</td>\n",
       "      <td>0.0</td>\n",
       "      <td>1.0</td>\n",
       "    </tr>\n",
       "    <tr>\n",
       "      <th>3</th>\n",
       "      <td>3</td>\n",
       "      <td>AAPL</td>\n",
       "      <td>2015-06-01 00:00:00+00:00</td>\n",
       "      <td>130.535</td>\n",
       "      <td>131.390</td>\n",
       "      <td>130.05</td>\n",
       "      <td>131.20</td>\n",
       "      <td>32112797</td>\n",
       "      <td>120.291057</td>\n",
       "      <td>121.078960</td>\n",
       "      <td>119.844118</td>\n",
       "      <td>120.903870</td>\n",
       "      <td>32112797</td>\n",
       "      <td>0.0</td>\n",
       "      <td>1.0</td>\n",
       "    </tr>\n",
       "    <tr>\n",
       "      <th>4</th>\n",
       "      <td>4</td>\n",
       "      <td>AAPL</td>\n",
       "      <td>2015-06-02 00:00:00+00:00</td>\n",
       "      <td>129.960</td>\n",
       "      <td>130.655</td>\n",
       "      <td>129.32</td>\n",
       "      <td>129.86</td>\n",
       "      <td>33667627</td>\n",
       "      <td>119.761181</td>\n",
       "      <td>120.401640</td>\n",
       "      <td>119.171406</td>\n",
       "      <td>119.669029</td>\n",
       "      <td>33667627</td>\n",
       "      <td>0.0</td>\n",
       "      <td>1.0</td>\n",
       "    </tr>\n",
       "  </tbody>\n",
       "</table>\n",
       "</div>"
      ],
      "text/plain": [
       "   Unnamed: 0 symbol                       date    close     high     low  \\\n",
       "0           0   AAPL  2015-05-27 00:00:00+00:00  132.045  132.260  130.05   \n",
       "1           1   AAPL  2015-05-28 00:00:00+00:00  131.780  131.950  131.10   \n",
       "2           2   AAPL  2015-05-29 00:00:00+00:00  130.280  131.450  129.90   \n",
       "3           3   AAPL  2015-06-01 00:00:00+00:00  130.535  131.390  130.05   \n",
       "4           4   AAPL  2015-06-02 00:00:00+00:00  129.960  130.655  129.32   \n",
       "\n",
       "     open    volume    adjClose     adjHigh      adjLow     adjOpen  \\\n",
       "0  130.34  45833246  121.682558  121.880685  119.844118  120.111360   \n",
       "1  131.86  30733309  121.438354  121.595013  120.811718  121.512076   \n",
       "2  131.23  50884452  120.056069  121.134251  119.705890  120.931516   \n",
       "3  131.20  32112797  120.291057  121.078960  119.844118  120.903870   \n",
       "4  129.86  33667627  119.761181  120.401640  119.171406  119.669029   \n",
       "\n",
       "   adjVolume  divCash  splitFactor  \n",
       "0   45833246      0.0          1.0  \n",
       "1   30733309      0.0          1.0  \n",
       "2   50884452      0.0          1.0  \n",
       "3   32112797      0.0          1.0  \n",
       "4   33667627      0.0          1.0  "
      ]
     },
     "execution_count": 7,
     "metadata": {},
     "output_type": "execute_result"
    }
   ],
   "source": [
    "data.head()"
   ]
  },
  {
   "cell_type": "code",
   "execution_count": 8,
   "metadata": {
    "execution": {
     "iopub.execute_input": "2021-06-06T18:00:43.712039Z",
     "iopub.status.busy": "2021-06-06T18:00:43.711612Z",
     "iopub.status.idle": "2021-06-06T18:00:43.721323Z",
     "shell.execute_reply": "2021-06-06T18:00:43.719959Z",
     "shell.execute_reply.started": "2021-06-06T18:00:43.711999Z"
    }
   },
   "outputs": [],
   "source": [
    "data1 = data.reset_index()['close']"
   ]
  },
  {
   "cell_type": "code",
   "execution_count": 9,
   "metadata": {
    "execution": {
     "iopub.execute_input": "2021-06-06T18:00:43.727097Z",
     "iopub.status.busy": "2021-06-06T18:00:43.726678Z",
     "iopub.status.idle": "2021-06-06T18:00:43.735192Z",
     "shell.execute_reply": "2021-06-06T18:00:43.733967Z",
     "shell.execute_reply.started": "2021-06-06T18:00:43.727064Z"
    }
   },
   "outputs": [
    {
     "data": {
      "text/plain": [
       "0       132.045\n",
       "1       131.780\n",
       "2       130.280\n",
       "3       130.535\n",
       "4       129.960\n",
       "         ...   \n",
       "1253    314.960\n",
       "1254    313.140\n",
       "1255    319.230\n",
       "1256    316.850\n",
       "1257    318.890\n",
       "Name: close, Length: 1258, dtype: float64"
      ]
     },
     "execution_count": 9,
     "metadata": {},
     "output_type": "execute_result"
    }
   ],
   "source": [
    "data1"
   ]
  },
  {
   "cell_type": "code",
   "execution_count": 10,
   "metadata": {
    "execution": {
     "iopub.execute_input": "2021-06-06T18:00:43.739954Z",
     "iopub.status.busy": "2021-06-06T18:00:43.739079Z",
     "iopub.status.idle": "2021-06-06T18:00:43.747463Z",
     "shell.execute_reply": "2021-06-06T18:00:43.746169Z",
     "shell.execute_reply.started": "2021-06-06T18:00:43.739893Z"
    }
   },
   "outputs": [
    {
     "data": {
      "text/plain": [
       "(1258,)"
      ]
     },
     "execution_count": 10,
     "metadata": {},
     "output_type": "execute_result"
    }
   ],
   "source": [
    "data1.shape"
   ]
  },
  {
   "cell_type": "code",
   "execution_count": 1,
   "metadata": {
    "execution": {
     "iopub.execute_input": "2021-06-06T18:00:43.750351Z",
     "iopub.status.busy": "2021-06-06T18:00:43.749410Z",
     "iopub.status.idle": "2021-06-06T18:00:43.917502Z",
     "shell.execute_reply": "2021-06-06T18:00:43.916462Z",
     "shell.execute_reply.started": "2021-06-06T18:00:43.750297Z"
    }
   },
   "outputs": [
    {
     "ename": "NameError",
     "evalue": "name 'plt' is not defined",
     "output_type": "error",
     "traceback": [
      "\u001b[1;31m---------------------------------------------------------------------------\u001b[0m",
      "\u001b[1;31mNameError\u001b[0m                                 Traceback (most recent call last)",
      "Cell \u001b[1;32mIn[1], line 1\u001b[0m\n\u001b[1;32m----> 1\u001b[0m \u001b[43mplt\u001b[49m\u001b[38;5;241m.\u001b[39mplot(data1 , color \u001b[38;5;241m=\u001b[39m \u001b[38;5;124m\"\u001b[39m\u001b[38;5;124mgreen\u001b[39m\u001b[38;5;124m\"\u001b[39m)\n",
      "\u001b[1;31mNameError\u001b[0m: name 'plt' is not defined"
     ]
    }
   ],
   "source": [
    "plt.plot(data1 , color = \"green\")"
   ]
  },
  {
   "cell_type": "code",
   "execution_count": 12,
   "metadata": {
    "execution": {
     "iopub.execute_input": "2021-06-06T18:00:43.919430Z",
     "iopub.status.busy": "2021-06-06T18:00:43.919012Z",
     "iopub.status.idle": "2021-06-06T18:00:43.924104Z",
     "shell.execute_reply": "2021-06-06T18:00:43.923077Z",
     "shell.execute_reply.started": "2021-06-06T18:00:43.919387Z"
    }
   },
   "outputs": [],
   "source": [
    "scaler = MinMaxScaler(feature_range=(0,1))"
   ]
  },
  {
   "cell_type": "code",
   "execution_count": 13,
   "metadata": {
    "execution": {
     "iopub.execute_input": "2021-06-06T18:00:43.926671Z",
     "iopub.status.busy": "2021-06-06T18:00:43.926274Z",
     "iopub.status.idle": "2021-06-06T18:00:43.935033Z",
     "shell.execute_reply": "2021-06-06T18:00:43.934180Z",
     "shell.execute_reply.started": "2021-06-06T18:00:43.926628Z"
    }
   },
   "outputs": [],
   "source": [
    "data1 = scaler.fit_transform(np.array(data1).reshape(-1,1))"
   ]
  },
  {
   "cell_type": "code",
   "execution_count": 14,
   "metadata": {
    "execution": {
     "iopub.execute_input": "2021-06-06T18:00:43.937258Z",
     "iopub.status.busy": "2021-06-06T18:00:43.936740Z",
     "iopub.status.idle": "2021-06-06T18:00:43.946898Z",
     "shell.execute_reply": "2021-06-06T18:00:43.945906Z",
     "shell.execute_reply.started": "2021-06-06T18:00:43.937216Z"
    }
   },
   "outputs": [
    {
     "data": {
      "text/plain": [
       "array([[0.17607447],\n",
       "       [0.17495567],\n",
       "       [0.16862282],\n",
       "       ...,\n",
       "       [0.96635143],\n",
       "       [0.9563033 ],\n",
       "       [0.96491598]])"
      ]
     },
     "execution_count": 14,
     "metadata": {},
     "output_type": "execute_result"
    }
   ],
   "source": [
    "data1"
   ]
  },
  {
   "cell_type": "markdown",
   "metadata": {},
   "source": [
    "# <font color = 'red' size = 4 > splitting the dataset into train and test split </font>"
   ]
  },
  {
   "cell_type": "code",
   "execution_count": 15,
   "metadata": {
    "execution": {
     "iopub.execute_input": "2021-06-06T18:00:43.949354Z",
     "iopub.status.busy": "2021-06-06T18:00:43.948810Z",
     "iopub.status.idle": "2021-06-06T18:00:43.956500Z",
     "shell.execute_reply": "2021-06-06T18:00:43.955571Z",
     "shell.execute_reply.started": "2021-06-06T18:00:43.949242Z"
    }
   },
   "outputs": [],
   "source": [
    "training_size = int(len(data1)*0.65)"
   ]
  },
  {
   "cell_type": "code",
   "execution_count": 16,
   "metadata": {
    "execution": {
     "iopub.execute_input": "2021-06-06T18:00:43.958447Z",
     "iopub.status.busy": "2021-06-06T18:00:43.958028Z",
     "iopub.status.idle": "2021-06-06T18:00:43.966355Z",
     "shell.execute_reply": "2021-06-06T18:00:43.965476Z",
     "shell.execute_reply.started": "2021-06-06T18:00:43.958404Z"
    }
   },
   "outputs": [],
   "source": [
    "test_size = len(data1) - training_size"
   ]
  },
  {
   "cell_type": "code",
   "execution_count": 17,
   "metadata": {
    "execution": {
     "iopub.execute_input": "2021-06-06T18:00:43.968265Z",
     "iopub.status.busy": "2021-06-06T18:00:43.967840Z",
     "iopub.status.idle": "2021-06-06T18:00:43.976154Z",
     "shell.execute_reply": "2021-06-06T18:00:43.975317Z",
     "shell.execute_reply.started": "2021-06-06T18:00:43.968226Z"
    }
   },
   "outputs": [],
   "source": [
    "train_data,test_data = data1[0:training_size,:],data1[training_size:len(data1),:1]"
   ]
  },
  {
   "cell_type": "code",
   "execution_count": 18,
   "metadata": {
    "execution": {
     "iopub.execute_input": "2021-06-06T18:00:43.978014Z",
     "iopub.status.busy": "2021-06-06T18:00:43.977579Z",
     "iopub.status.idle": "2021-06-06T18:00:43.988192Z",
     "shell.execute_reply": "2021-06-06T18:00:43.987174Z",
     "shell.execute_reply.started": "2021-06-06T18:00:43.977974Z"
    }
   },
   "outputs": [
    {
     "data": {
      "text/plain": [
       "817"
      ]
     },
     "execution_count": 18,
     "metadata": {},
     "output_type": "execute_result"
    }
   ],
   "source": [
    "len(train_data)"
   ]
  },
  {
   "cell_type": "code",
   "execution_count": 19,
   "metadata": {
    "execution": {
     "iopub.execute_input": "2021-06-06T18:00:43.990467Z",
     "iopub.status.busy": "2021-06-06T18:00:43.989752Z",
     "iopub.status.idle": "2021-06-06T18:00:44.000288Z",
     "shell.execute_reply": "2021-06-06T18:00:43.999428Z",
     "shell.execute_reply.started": "2021-06-06T18:00:43.990420Z"
    }
   },
   "outputs": [
    {
     "data": {
      "text/plain": [
       "441"
      ]
     },
     "execution_count": 19,
     "metadata": {},
     "output_type": "execute_result"
    }
   ],
   "source": [
    "len(test_data)"
   ]
  },
  {
   "cell_type": "markdown",
   "metadata": {},
   "source": [
    "# <font color = 'red' size = 4 > converting the array values into a dataset matrix </font>"
   ]
  },
  {
   "cell_type": "code",
   "execution_count": 20,
   "metadata": {
    "execution": {
     "iopub.execute_input": "2021-06-06T18:00:44.003235Z",
     "iopub.status.busy": "2021-06-06T18:00:44.002426Z",
     "iopub.status.idle": "2021-06-06T18:00:44.010760Z",
     "shell.execute_reply": "2021-06-06T18:00:44.009919Z",
     "shell.execute_reply.started": "2021-06-06T18:00:44.003183Z"
    }
   },
   "outputs": [],
   "source": [
    "\n",
    "def create_dataset(dataset, time_step = 1):\n",
    "    dataX , dataY = [], []\n",
    "    for i in range(len(dataset) - time_step - 1 ):\n",
    "        a = dataset[i:(i + time_step), 0]  \n",
    "        dataX.append(a)\n",
    "        dataY.append(dataset[i + time_step, 0])\n",
    "    return np.array(dataX), np.array(dataY)"
   ]
  },
  {
   "cell_type": "code",
   "execution_count": 21,
   "metadata": {
    "execution": {
     "iopub.execute_input": "2021-06-06T18:00:44.014497Z",
     "iopub.status.busy": "2021-06-06T18:00:44.014184Z",
     "iopub.status.idle": "2021-06-06T18:00:44.021903Z",
     "shell.execute_reply": "2021-06-06T18:00:44.020756Z",
     "shell.execute_reply.started": "2021-06-06T18:00:44.014457Z"
    }
   },
   "outputs": [],
   "source": [
    "time_step = 100"
   ]
  },
  {
   "cell_type": "code",
   "execution_count": 22,
   "metadata": {
    "execution": {
     "iopub.execute_input": "2021-06-06T18:00:44.023705Z",
     "iopub.status.busy": "2021-06-06T18:00:44.023250Z",
     "iopub.status.idle": "2021-06-06T18:00:44.035166Z",
     "shell.execute_reply": "2021-06-06T18:00:44.034312Z",
     "shell.execute_reply.started": "2021-06-06T18:00:44.023625Z"
    }
   },
   "outputs": [],
   "source": [
    "X_train, y_train = create_dataset(train_data, time_step)\n",
    "\n",
    "X_test, y_test = create_dataset(test_data, time_step)"
   ]
  },
  {
   "cell_type": "code",
   "execution_count": 23,
   "metadata": {
    "execution": {
     "iopub.execute_input": "2021-06-06T18:00:44.039139Z",
     "iopub.status.busy": "2021-06-06T18:00:44.038828Z",
     "iopub.status.idle": "2021-06-06T18:00:44.047401Z",
     "shell.execute_reply": "2021-06-06T18:00:44.046418Z",
     "shell.execute_reply.started": "2021-06-06T18:00:44.039111Z"
    }
   },
   "outputs": [
    {
     "data": {
      "text/plain": [
       "(716, 100)"
      ]
     },
     "execution_count": 23,
     "metadata": {},
     "output_type": "execute_result"
    }
   ],
   "source": [
    "X_train.shape"
   ]
  },
  {
   "cell_type": "code",
   "execution_count": 24,
   "metadata": {
    "execution": {
     "iopub.execute_input": "2021-06-06T18:00:44.049443Z",
     "iopub.status.busy": "2021-06-06T18:00:44.048959Z",
     "iopub.status.idle": "2021-06-06T18:00:44.057233Z",
     "shell.execute_reply": "2021-06-06T18:00:44.056148Z",
     "shell.execute_reply.started": "2021-06-06T18:00:44.049399Z"
    }
   },
   "outputs": [
    {
     "data": {
      "text/plain": [
       "(716,)"
      ]
     },
     "execution_count": 24,
     "metadata": {},
     "output_type": "execute_result"
    }
   ],
   "source": [
    "y_train.shape"
   ]
  },
  {
   "cell_type": "code",
   "execution_count": 25,
   "metadata": {
    "execution": {
     "iopub.execute_input": "2021-06-06T18:00:44.059898Z",
     "iopub.status.busy": "2021-06-06T18:00:44.059392Z",
     "iopub.status.idle": "2021-06-06T18:00:44.068180Z",
     "shell.execute_reply": "2021-06-06T18:00:44.066647Z",
     "shell.execute_reply.started": "2021-06-06T18:00:44.059850Z"
    }
   },
   "outputs": [
    {
     "data": {
      "text/plain": [
       "(340, 100)"
      ]
     },
     "execution_count": 25,
     "metadata": {},
     "output_type": "execute_result"
    }
   ],
   "source": [
    "X_test.shape"
   ]
  },
  {
   "cell_type": "code",
   "execution_count": 26,
   "metadata": {
    "execution": {
     "iopub.execute_input": "2021-06-06T18:00:44.071572Z",
     "iopub.status.busy": "2021-06-06T18:00:44.070845Z",
     "iopub.status.idle": "2021-06-06T18:00:44.078281Z",
     "shell.execute_reply": "2021-06-06T18:00:44.077303Z",
     "shell.execute_reply.started": "2021-06-06T18:00:44.071520Z"
    }
   },
   "outputs": [
    {
     "data": {
      "text/plain": [
       "(340,)"
      ]
     },
     "execution_count": 26,
     "metadata": {},
     "output_type": "execute_result"
    }
   ],
   "source": [
    "y_test.shape"
   ]
  },
  {
   "cell_type": "code",
   "execution_count": 27,
   "metadata": {
    "execution": {
     "iopub.execute_input": "2021-06-06T18:00:44.080430Z",
     "iopub.status.busy": "2021-06-06T18:00:44.079994Z",
     "iopub.status.idle": "2021-06-06T18:00:44.086271Z",
     "shell.execute_reply": "2021-06-06T18:00:44.085420Z",
     "shell.execute_reply.started": "2021-06-06T18:00:44.080390Z"
    }
   },
   "outputs": [],
   "source": [
    "# reshape the input to be in [samples, time steps, features] which is required for LSTM\n",
    "X_train = X_train.reshape(X_train.shape[0],X_train.shape[1] , 1)"
   ]
  },
  {
   "cell_type": "code",
   "execution_count": 28,
   "metadata": {
    "execution": {
     "iopub.execute_input": "2021-06-06T18:00:44.088747Z",
     "iopub.status.busy": "2021-06-06T18:00:44.088272Z",
     "iopub.status.idle": "2021-06-06T18:00:44.096343Z",
     "shell.execute_reply": "2021-06-06T18:00:44.095380Z",
     "shell.execute_reply.started": "2021-06-06T18:00:44.088683Z"
    }
   },
   "outputs": [],
   "source": [
    "X_test = X_test.reshape(X_test.shape[0],X_test.shape[1] , 1)"
   ]
  },
  {
   "cell_type": "markdown",
   "metadata": {},
   "source": [
    "# <font color = 'red' size = 4 > CREATING THE STACKED LSTM MODEL <font/>"
   ]
  },
  {
   "cell_type": "code",
   "execution_count": 29,
   "metadata": {
    "execution": {
     "iopub.execute_input": "2021-06-06T18:00:44.099776Z",
     "iopub.status.busy": "2021-06-06T18:00:44.099453Z",
     "iopub.status.idle": "2021-06-06T18:00:46.586322Z",
     "shell.execute_reply": "2021-06-06T18:00:46.585402Z",
     "shell.execute_reply.started": "2021-06-06T18:00:44.099742Z"
    }
   },
   "outputs": [],
   "source": [
    "model=Sequential()"
   ]
  },
  {
   "cell_type": "code",
   "execution_count": 30,
   "metadata": {
    "execution": {
     "iopub.execute_input": "2021-06-06T18:00:46.588140Z",
     "iopub.status.busy": "2021-06-06T18:00:46.587776Z",
     "iopub.status.idle": "2021-06-06T18:00:47.516011Z",
     "shell.execute_reply": "2021-06-06T18:00:47.514983Z",
     "shell.execute_reply.started": "2021-06-06T18:00:46.588103Z"
    }
   },
   "outputs": [],
   "source": [
    "model.add(LSTM(50,return_sequences = True,input_shape = (100,1)))\n",
    "model.add(LSTM(50,return_sequences = True))\n",
    "model.add(LSTM(50))\n",
    "model.add(Dense(1))\n",
    "model.compile(loss='mean_squared_error', optimizer = 'adam')"
   ]
  },
  {
   "cell_type": "code",
   "execution_count": 31,
   "metadata": {
    "execution": {
     "iopub.execute_input": "2021-06-06T18:00:47.517925Z",
     "iopub.status.busy": "2021-06-06T18:00:47.517534Z",
     "iopub.status.idle": "2021-06-06T18:00:47.528049Z",
     "shell.execute_reply": "2021-06-06T18:00:47.526784Z",
     "shell.execute_reply.started": "2021-06-06T18:00:47.517883Z"
    }
   },
   "outputs": [
    {
     "name": "stdout",
     "output_type": "stream",
     "text": [
      "Model: \"sequential\"\n",
      "_________________________________________________________________\n",
      " Layer (type)                Output Shape              Param #   \n",
      "=================================================================\n",
      " lstm (LSTM)                 (None, 100, 50)           10400     \n",
      "                                                                 \n",
      " lstm_1 (LSTM)               (None, 100, 50)           20200     \n",
      "                                                                 \n",
      " lstm_2 (LSTM)               (None, 50)                20200     \n",
      "                                                                 \n",
      " dense (Dense)               (None, 1)                 51        \n",
      "                                                                 \n",
      "=================================================================\n",
      "Total params: 50851 (198.64 KB)\n",
      "Trainable params: 50851 (198.64 KB)\n",
      "Non-trainable params: 0 (0.00 Byte)\n",
      "_________________________________________________________________\n"
     ]
    }
   ],
   "source": [
    "model.summary()"
   ]
  },
  {
   "cell_type": "code",
   "execution_count": 32,
   "metadata": {
    "execution": {
     "iopub.execute_input": "2021-06-06T18:00:47.530655Z",
     "iopub.status.busy": "2021-06-06T18:00:47.529861Z",
     "iopub.status.idle": "2021-06-06T18:01:23.556054Z",
     "shell.execute_reply": "2021-06-06T18:01:23.555262Z",
     "shell.execute_reply.started": "2021-06-06T18:00:47.530606Z"
    },
    "scrolled": true
   },
   "outputs": [
    {
     "name": "stdout",
     "output_type": "stream",
     "text": [
      "Epoch 1/100\n",
      "12/12 [==============================] - 17s 555ms/step - loss: 0.0127 - val_loss: 0.0655\n",
      "Epoch 2/100\n",
      "12/12 [==============================] - 4s 347ms/step - loss: 0.0031 - val_loss: 0.0061\n",
      "Epoch 3/100\n",
      "12/12 [==============================] - 4s 336ms/step - loss: 0.0011 - val_loss: 0.0051\n",
      "Epoch 4/100\n",
      "12/12 [==============================] - 4s 339ms/step - loss: 8.1075e-04 - val_loss: 0.0041\n",
      "Epoch 5/100\n",
      "12/12 [==============================] - 4s 318ms/step - loss: 7.0973e-04 - val_loss: 0.0064\n",
      "Epoch 6/100\n",
      "12/12 [==============================] - 4s 317ms/step - loss: 6.5773e-04 - val_loss: 0.0063\n",
      "Epoch 7/100\n",
      "12/12 [==============================] - 4s 321ms/step - loss: 6.8310e-04 - val_loss: 0.0061\n",
      "Epoch 8/100\n",
      "12/12 [==============================] - 4s 313ms/step - loss: 6.4548e-04 - val_loss: 0.0054\n",
      "Epoch 9/100\n",
      "12/12 [==============================] - 4s 314ms/step - loss: 6.4938e-04 - val_loss: 0.0042\n",
      "Epoch 10/100\n",
      "12/12 [==============================] - 4s 315ms/step - loss: 5.9674e-04 - val_loss: 0.0036\n",
      "Epoch 11/100\n",
      "12/12 [==============================] - 4s 317ms/step - loss: 6.1275e-04 - val_loss: 0.0039\n",
      "Epoch 12/100\n",
      "12/12 [==============================] - 4s 313ms/step - loss: 5.7892e-04 - val_loss: 0.0040\n",
      "Epoch 13/100\n",
      "12/12 [==============================] - 4s 320ms/step - loss: 5.8822e-04 - val_loss: 0.0035\n",
      "Epoch 14/100\n",
      "12/12 [==============================] - 4s 318ms/step - loss: 5.5637e-04 - val_loss: 0.0033\n",
      "Epoch 15/100\n",
      "12/12 [==============================] - 4s 322ms/step - loss: 5.5207e-04 - val_loss: 0.0031\n",
      "Epoch 16/100\n",
      "12/12 [==============================] - 4s 312ms/step - loss: 5.7413e-04 - val_loss: 0.0030\n",
      "Epoch 17/100\n",
      "12/12 [==============================] - 4s 322ms/step - loss: 5.4854e-04 - val_loss: 0.0039\n",
      "Epoch 18/100\n",
      "12/12 [==============================] - 4s 323ms/step - loss: 5.3169e-04 - val_loss: 0.0028\n",
      "Epoch 19/100\n",
      "12/12 [==============================] - 4s 320ms/step - loss: 5.0728e-04 - val_loss: 0.0028\n",
      "Epoch 20/100\n",
      "12/12 [==============================] - 4s 314ms/step - loss: 4.9808e-04 - val_loss: 0.0030\n",
      "Epoch 21/100\n",
      "12/12 [==============================] - 4s 322ms/step - loss: 5.4118e-04 - val_loss: 0.0024\n",
      "Epoch 22/100\n",
      "12/12 [==============================] - 4s 342ms/step - loss: 4.8743e-04 - val_loss: 0.0040\n",
      "Epoch 23/100\n",
      "12/12 [==============================] - 4s 323ms/step - loss: 5.9873e-04 - val_loss: 0.0023\n",
      "Epoch 24/100\n",
      "12/12 [==============================] - 4s 317ms/step - loss: 5.4302e-04 - val_loss: 0.0023\n",
      "Epoch 25/100\n",
      "12/12 [==============================] - 4s 320ms/step - loss: 4.5287e-04 - val_loss: 0.0022\n",
      "Epoch 26/100\n",
      "12/12 [==============================] - 4s 332ms/step - loss: 4.4133e-04 - val_loss: 0.0022\n",
      "Epoch 27/100\n",
      "12/12 [==============================] - 4s 354ms/step - loss: 4.3800e-04 - val_loss: 0.0024\n",
      "Epoch 28/100\n",
      "12/12 [==============================] - 4s 309ms/step - loss: 4.3432e-04 - val_loss: 0.0024\n",
      "Epoch 29/100\n",
      "12/12 [==============================] - 4s 321ms/step - loss: 4.2128e-04 - val_loss: 0.0018\n",
      "Epoch 30/100\n",
      "12/12 [==============================] - 4s 316ms/step - loss: 4.3794e-04 - val_loss: 0.0019\n",
      "Epoch 31/100\n",
      "12/12 [==============================] - 4s 321ms/step - loss: 4.2410e-04 - val_loss: 0.0028\n",
      "Epoch 32/100\n",
      "12/12 [==============================] - 4s 317ms/step - loss: 3.9213e-04 - val_loss: 0.0018\n",
      "Epoch 33/100\n",
      "12/12 [==============================] - 4s 317ms/step - loss: 4.0881e-04 - val_loss: 0.0016\n",
      "Epoch 34/100\n",
      "12/12 [==============================] - 4s 318ms/step - loss: 4.5174e-04 - val_loss: 0.0028\n",
      "Epoch 35/100\n",
      "12/12 [==============================] - 4s 315ms/step - loss: 4.3053e-04 - val_loss: 0.0016\n",
      "Epoch 36/100\n",
      "12/12 [==============================] - 4s 318ms/step - loss: 4.5776e-04 - val_loss: 0.0032\n",
      "Epoch 37/100\n",
      "12/12 [==============================] - 4s 314ms/step - loss: 4.3006e-04 - val_loss: 0.0015\n",
      "Epoch 38/100\n",
      "12/12 [==============================] - 4s 315ms/step - loss: 3.6422e-04 - val_loss: 0.0020\n",
      "Epoch 39/100\n",
      "12/12 [==============================] - 4s 320ms/step - loss: 3.5670e-04 - val_loss: 0.0021\n",
      "Epoch 40/100\n",
      "12/12 [==============================] - 4s 320ms/step - loss: 3.4268e-04 - val_loss: 0.0018\n",
      "Epoch 41/100\n",
      "12/12 [==============================] - 4s 381ms/step - loss: 3.3587e-04 - val_loss: 0.0015\n",
      "Epoch 42/100\n",
      "12/12 [==============================] - 4s 317ms/step - loss: 3.6366e-04 - val_loss: 0.0026\n",
      "Epoch 43/100\n",
      "12/12 [==============================] - 4s 313ms/step - loss: 3.4250e-04 - val_loss: 0.0014\n",
      "Epoch 44/100\n",
      "12/12 [==============================] - 4s 353ms/step - loss: 3.5344e-04 - val_loss: 0.0034\n",
      "Epoch 45/100\n",
      "12/12 [==============================] - 4s 329ms/step - loss: 3.7339e-04 - val_loss: 0.0019\n",
      "Epoch 46/100\n",
      "12/12 [==============================] - 4s 320ms/step - loss: 4.2393e-04 - val_loss: 0.0031\n",
      "Epoch 47/100\n",
      "12/12 [==============================] - 4s 315ms/step - loss: 3.1974e-04 - val_loss: 0.0018\n",
      "Epoch 48/100\n",
      "12/12 [==============================] - 4s 318ms/step - loss: 3.1238e-04 - val_loss: 0.0016\n",
      "Epoch 49/100\n",
      "12/12 [==============================] - 4s 315ms/step - loss: 3.0429e-04 - val_loss: 0.0024\n",
      "Epoch 50/100\n",
      "12/12 [==============================] - 4s 316ms/step - loss: 3.4529e-04 - val_loss: 0.0017\n",
      "Epoch 51/100\n",
      "12/12 [==============================] - 4s 310ms/step - loss: 4.3933e-04 - val_loss: 0.0021\n",
      "Epoch 52/100\n",
      "12/12 [==============================] - 4s 314ms/step - loss: 3.1885e-04 - val_loss: 0.0014\n",
      "Epoch 53/100\n",
      "12/12 [==============================] - 4s 314ms/step - loss: 3.0767e-04 - val_loss: 0.0020\n",
      "Epoch 54/100\n",
      "12/12 [==============================] - 4s 315ms/step - loss: 2.8899e-04 - val_loss: 0.0018\n",
      "Epoch 55/100\n",
      "12/12 [==============================] - 4s 319ms/step - loss: 3.0239e-04 - val_loss: 0.0018\n",
      "Epoch 56/100\n",
      "12/12 [==============================] - 4s 319ms/step - loss: 2.7266e-04 - val_loss: 0.0013\n",
      "Epoch 57/100\n",
      "12/12 [==============================] - 4s 316ms/step - loss: 2.7750e-04 - val_loss: 0.0017\n",
      "Epoch 58/100\n",
      "12/12 [==============================] - 4s 312ms/step - loss: 2.6071e-04 - val_loss: 0.0018\n",
      "Epoch 59/100\n",
      "12/12 [==============================] - 4s 314ms/step - loss: 2.8180e-04 - val_loss: 0.0016\n",
      "Epoch 60/100\n",
      "12/12 [==============================] - 4s 310ms/step - loss: 2.5767e-04 - val_loss: 0.0014\n",
      "Epoch 61/100\n",
      "12/12 [==============================] - 4s 313ms/step - loss: 2.5867e-04 - val_loss: 0.0017\n",
      "Epoch 62/100\n",
      "12/12 [==============================] - 4s 315ms/step - loss: 2.4055e-04 - val_loss: 0.0015\n",
      "Epoch 63/100\n",
      "12/12 [==============================] - 4s 320ms/step - loss: 2.3680e-04 - val_loss: 0.0014\n",
      "Epoch 64/100\n",
      "12/12 [==============================] - 4s 312ms/step - loss: 2.3885e-04 - val_loss: 0.0015\n",
      "Epoch 65/100\n",
      "12/12 [==============================] - 4s 320ms/step - loss: 2.2961e-04 - val_loss: 0.0014\n",
      "Epoch 66/100\n",
      "12/12 [==============================] - 4s 313ms/step - loss: 2.5613e-04 - val_loss: 0.0014\n",
      "Epoch 67/100\n",
      "12/12 [==============================] - 4s 308ms/step - loss: 2.5516e-04 - val_loss: 0.0018\n",
      "Epoch 68/100\n",
      "12/12 [==============================] - 4s 305ms/step - loss: 2.4909e-04 - val_loss: 0.0012\n",
      "Epoch 69/100\n",
      "12/12 [==============================] - 4s 305ms/step - loss: 2.2347e-04 - val_loss: 0.0012\n",
      "Epoch 70/100\n",
      "12/12 [==============================] - 4s 315ms/step - loss: 2.2865e-04 - val_loss: 0.0012\n",
      "Epoch 71/100\n",
      "12/12 [==============================] - 4s 306ms/step - loss: 2.1937e-04 - val_loss: 0.0018\n",
      "Epoch 72/100\n",
      "12/12 [==============================] - 4s 311ms/step - loss: 2.2692e-04 - val_loss: 0.0012\n",
      "Epoch 73/100\n",
      "12/12 [==============================] - 4s 314ms/step - loss: 2.0319e-04 - val_loss: 0.0012\n",
      "Epoch 74/100\n",
      "12/12 [==============================] - 4s 319ms/step - loss: 2.0339e-04 - val_loss: 0.0014\n",
      "Epoch 75/100\n",
      "12/12 [==============================] - 4s 315ms/step - loss: 2.0884e-04 - val_loss: 0.0011\n",
      "Epoch 76/100\n",
      "12/12 [==============================] - 4s 315ms/step - loss: 2.1128e-04 - val_loss: 0.0017\n",
      "Epoch 77/100\n",
      "12/12 [==============================] - 4s 309ms/step - loss: 2.2731e-04 - val_loss: 0.0012\n",
      "Epoch 78/100\n",
      "12/12 [==============================] - 4s 319ms/step - loss: 2.0327e-04 - val_loss: 0.0017\n",
      "Epoch 79/100\n",
      "12/12 [==============================] - 4s 321ms/step - loss: 1.9491e-04 - val_loss: 0.0010\n",
      "Epoch 80/100\n",
      "12/12 [==============================] - 4s 313ms/step - loss: 1.8771e-04 - val_loss: 0.0012\n",
      "Epoch 81/100\n",
      "12/12 [==============================] - 4s 323ms/step - loss: 1.8335e-04 - val_loss: 0.0011\n",
      "Epoch 82/100\n",
      "12/12 [==============================] - 4s 325ms/step - loss: 1.9874e-04 - val_loss: 0.0010\n",
      "Epoch 83/100\n",
      "12/12 [==============================] - 4s 320ms/step - loss: 1.7844e-04 - val_loss: 0.0010\n",
      "Epoch 84/100\n",
      "12/12 [==============================] - 4s 315ms/step - loss: 2.0269e-04 - val_loss: 0.0016\n",
      "Epoch 85/100\n",
      "12/12 [==============================] - 4s 319ms/step - loss: 2.7655e-04 - val_loss: 0.0014\n",
      "Epoch 86/100\n",
      "12/12 [==============================] - 4s 318ms/step - loss: 1.9044e-04 - val_loss: 0.0022\n",
      "Epoch 87/100\n",
      "12/12 [==============================] - 4s 315ms/step - loss: 2.2417e-04 - val_loss: 9.6929e-04\n",
      "Epoch 88/100\n",
      "12/12 [==============================] - 4s 316ms/step - loss: 1.9453e-04 - val_loss: 9.6506e-04\n",
      "Epoch 89/100\n",
      "12/12 [==============================] - 4s 320ms/step - loss: 2.0569e-04 - val_loss: 0.0016\n",
      "Epoch 90/100\n",
      "12/12 [==============================] - 4s 315ms/step - loss: 2.0506e-04 - val_loss: 9.2891e-04\n",
      "Epoch 91/100\n",
      "12/12 [==============================] - 4s 315ms/step - loss: 1.6533e-04 - val_loss: 9.0094e-04\n",
      "Epoch 92/100\n",
      "12/12 [==============================] - 4s 316ms/step - loss: 1.6277e-04 - val_loss: 9.1422e-04\n",
      "Epoch 93/100\n",
      "12/12 [==============================] - 4s 317ms/step - loss: 1.5461e-04 - val_loss: 8.6236e-04\n",
      "Epoch 94/100\n",
      "12/12 [==============================] - 4s 317ms/step - loss: 1.6035e-04 - val_loss: 8.6664e-04\n",
      "Epoch 95/100\n",
      "12/12 [==============================] - 4s 315ms/step - loss: 1.7360e-04 - val_loss: 0.0011\n",
      "Epoch 96/100\n",
      "12/12 [==============================] - 4s 316ms/step - loss: 1.6251e-04 - val_loss: 0.0010\n",
      "Epoch 97/100\n",
      "12/12 [==============================] - 4s 317ms/step - loss: 1.5195e-04 - val_loss: 9.3088e-04\n",
      "Epoch 98/100\n",
      "12/12 [==============================] - 4s 316ms/step - loss: 1.5094e-04 - val_loss: 0.0014\n",
      "Epoch 99/100\n",
      "12/12 [==============================] - 4s 318ms/step - loss: 1.7591e-04 - val_loss: 8.9784e-04\n",
      "Epoch 100/100\n",
      "12/12 [==============================] - 4s 316ms/step - loss: 1.4375e-04 - val_loss: 8.0876e-04\n"
     ]
    },
    {
     "data": {
      "text/plain": [
       "<keras.src.callbacks.History at 0x207b59be950>"
      ]
     },
     "execution_count": 32,
     "metadata": {},
     "output_type": "execute_result"
    }
   ],
   "source": [
    "model.fit(X_train,y_train,validation_data=(X_test,y_test),epochs = 100,batch_size = 64,verbose = 1)"
   ]
  },
  {
   "cell_type": "markdown",
   "metadata": {},
   "source": [
    "# <font color = 'blue' size = 4 > prediction and performance metrics </font>"
   ]
  },
  {
   "cell_type": "code",
   "execution_count": 33,
   "metadata": {
    "execution": {
     "iopub.execute_input": "2021-06-06T18:04:10.944086Z",
     "iopub.status.busy": "2021-06-06T18:04:10.943702Z",
     "iopub.status.idle": "2021-06-06T18:04:12.320081Z",
     "shell.execute_reply": "2021-06-06T18:04:12.319168Z",
     "shell.execute_reply.started": "2021-06-06T18:04:10.944050Z"
    }
   },
   "outputs": [
    {
     "name": "stdout",
     "output_type": "stream",
     "text": [
      "23/23 [==============================] - 4s 63ms/step\n",
      "11/11 [==============================] - 1s 64ms/step\n"
     ]
    }
   ],
   "source": [
    "\n",
    "train_predict = model.predict(X_train)\n",
    "test_predict = model.predict(X_test)"
   ]
  },
  {
   "cell_type": "markdown",
   "metadata": {},
   "source": [
    "# <font color = 'blue' size = 4 > Back to original form </font>"
   ]
  },
  {
   "cell_type": "code",
   "execution_count": 34,
   "metadata": {
    "execution": {
     "iopub.execute_input": "2021-06-06T18:05:15.590127Z",
     "iopub.status.busy": "2021-06-06T18:05:15.589754Z",
     "iopub.status.idle": "2021-06-06T18:05:15.596829Z",
     "shell.execute_reply": "2021-06-06T18:05:15.595693Z",
     "shell.execute_reply.started": "2021-06-06T18:05:15.590094Z"
    }
   },
   "outputs": [],
   "source": [
    " \n",
    "train_predict = scaler.inverse_transform(train_predict)\n",
    "test_predict = scaler.inverse_transform(test_predict)"
   ]
  },
  {
   "cell_type": "markdown",
   "metadata": {},
   "source": [
    "# <font color = 'blue' size = 4 > RMSE performance metrics (Training dataset) </font>"
   ]
  },
  {
   "cell_type": "code",
   "execution_count": 35,
   "metadata": {
    "execution": {
     "iopub.execute_input": "2021-06-06T18:06:04.354215Z",
     "iopub.status.busy": "2021-06-06T18:06:04.353823Z",
     "iopub.status.idle": "2021-06-06T18:06:04.361530Z",
     "shell.execute_reply": "2021-06-06T18:06:04.360449Z",
     "shell.execute_reply.started": "2021-06-06T18:06:04.354175Z"
    }
   },
   "outputs": [
    {
     "data": {
      "text/plain": [
       "142.75520158580665"
      ]
     },
     "execution_count": 35,
     "metadata": {},
     "output_type": "execute_result"
    }
   ],
   "source": [
    "\n",
    "math.sqrt(mean_squared_error(y_train,train_predict))"
   ]
  },
  {
   "cell_type": "markdown",
   "metadata": {},
   "source": [
    "# <font color = 'blue' size = 4 > RMSE performance metrics (Test dataset) </font>"
   ]
  },
  {
   "cell_type": "code",
   "execution_count": null,
   "metadata": {
    "execution": {
     "iopub.execute_input": "2021-06-06T18:07:17.084187Z",
     "iopub.status.busy": "2021-06-06T18:07:17.083834Z",
     "iopub.status.idle": "2021-06-06T18:07:17.091024Z",
     "shell.execute_reply": "2021-06-06T18:07:17.089815Z",
     "shell.execute_reply.started": "2021-06-06T18:07:17.084157Z"
    }
   },
   "outputs": [],
   "source": [
    "\n",
    "math.sqrt(mean_squared_error(y_test,test_predict))"
   ]
  },
  {
   "cell_type": "markdown",
   "metadata": {},
   "source": [
    "# <font color = 'blue' size = 4 > shifting train predictions for plotting </font>"
   ]
  },
  {
   "cell_type": "code",
   "execution_count": null,
   "metadata": {
    "execution": {
     "iopub.execute_input": "2021-06-06T18:11:47.468284Z",
     "iopub.status.busy": "2021-06-06T18:11:47.467934Z",
     "iopub.status.idle": "2021-06-06T18:11:47.477572Z",
     "shell.execute_reply": "2021-06-06T18:11:47.476490Z",
     "shell.execute_reply.started": "2021-06-06T18:11:47.468248Z"
    }
   },
   "outputs": [],
   "source": [
    "\n",
    "look_back=100\n",
    "trainPredictPlot = np.empty_like(data1)\n",
    "trainPredictPlot[:, :] = np.nan\n",
    "trainPredictPlot[look_back:len(train_predict)+look_back, :] = train_predict"
   ]
  },
  {
   "cell_type": "markdown",
   "metadata": {},
   "source": [
    "# <font color = 'blue' size = 4 > shifting test predictions for plotting </font>"
   ]
  },
  {
   "cell_type": "code",
   "execution_count": null,
   "metadata": {},
   "outputs": [],
   "source": [
    "testPredictPlot = np.empty_like(data1)\n",
    "testPredictPlot[:, :] = np.nan\n",
    "testPredictPlot[len(train_predict)+(look_back*2)+1:len(data1)-1, :] = test_predict"
   ]
  },
  {
   "cell_type": "markdown",
   "metadata": {},
   "source": [
    "# <font color = 'blue' size = 4 > ploting baseline and predictions </font>"
   ]
  },
  {
   "cell_type": "code",
   "execution_count": null,
   "metadata": {
    "execution": {
     "iopub.execute_input": "2021-06-06T18:28:39.692910Z",
     "iopub.status.busy": "2021-06-06T18:28:39.692552Z",
     "iopub.status.idle": "2021-06-06T18:28:39.926165Z",
     "shell.execute_reply": "2021-06-06T18:28:39.924904Z",
     "shell.execute_reply.started": "2021-06-06T18:28:39.692861Z"
    }
   },
   "outputs": [],
   "source": [
    "plt.plot(scaler.inverse_transform(data1) , color = \"yellow\")\n",
    "plt.plot(trainPredictPlot , color = \"blue\") # train predict data\n",
    "plt.plot(testPredictPlot  , color = \"red\") # test predict data\n",
    "plt.show()"
   ]
  },
  {
   "cell_type": "markdown",
   "metadata": {},
   "source": [
    "# <font color = 'blue' size = 4 > previous 100 days </font>"
   ]
  },
  {
   "cell_type": "code",
   "execution_count": null,
   "metadata": {
    "execution": {
     "iopub.execute_input": "2021-06-06T18:15:12.633315Z",
     "iopub.status.busy": "2021-06-06T18:15:12.632961Z",
     "iopub.status.idle": "2021-06-06T18:15:12.640783Z",
     "shell.execute_reply": "2021-06-06T18:15:12.639781Z",
     "shell.execute_reply.started": "2021-06-06T18:15:12.633281Z"
    }
   },
   "outputs": [],
   "source": [
    "x_input = test_data[341:].reshape(1,-1)\n",
    "x_input.shape"
   ]
  },
  {
   "cell_type": "code",
   "execution_count": null,
   "metadata": {
    "execution": {
     "iopub.execute_input": "2021-06-06T18:22:05.240814Z",
     "iopub.status.busy": "2021-06-06T18:22:05.240371Z",
     "iopub.status.idle": "2021-06-06T18:22:05.246905Z",
     "shell.execute_reply": "2021-06-06T18:22:05.245484Z",
     "shell.execute_reply.started": "2021-06-06T18:22:05.240778Z"
    }
   },
   "outputs": [],
   "source": [
    "temp_input = list(x_input)"
   ]
  },
  {
   "cell_type": "code",
   "execution_count": null,
   "metadata": {
    "execution": {
     "iopub.execute_input": "2021-06-06T18:22:13.104799Z",
     "iopub.status.busy": "2021-06-06T18:22:13.104446Z",
     "iopub.status.idle": "2021-06-06T18:22:13.108948Z",
     "shell.execute_reply": "2021-06-06T18:22:13.108050Z",
     "shell.execute_reply.started": "2021-06-06T18:22:13.104764Z"
    }
   },
   "outputs": [],
   "source": [
    "temp_input = temp_input[0].tolist()"
   ]
  },
  {
   "cell_type": "code",
   "execution_count": null,
   "metadata": {},
   "outputs": [],
   "source": [
    "# <font color = 'blue' size = 4 > demonstrate prediction for next 30 days </font>"
   ]
  },
  {
   "cell_type": "code",
   "execution_count": null,
   "metadata": {
    "execution": {
     "iopub.execute_input": "2021-06-06T18:24:32.205289Z",
     "iopub.status.busy": "2021-06-06T18:24:32.204912Z",
     "iopub.status.idle": "2021-06-06T18:24:33.594366Z",
     "shell.execute_reply": "2021-06-06T18:24:33.593329Z",
     "shell.execute_reply.started": "2021-06-06T18:24:32.205258Z"
    },
    "scrolled": true
   },
   "outputs": [],
   "source": [
    "#\n",
    "lst_output=[]\n",
    "n_steps=100\n",
    "i=0\n",
    "while(i<30):\n",
    "    \n",
    "    if(len(temp_input)>100):\n",
    "        #print(temp_input)\n",
    "        x_input = np.array(temp_input[1:])\n",
    "        print(\"{} day input {}\".format(i,x_input))\n",
    "        x_input = x_input.reshape(1,-1)\n",
    "        x_input = x_input.reshape((1, n_steps, 1))\n",
    "        # print(x_input)\n",
    "        yhat = model.predict(x_input, verbose=0)\n",
    "        print(\"{} day output {}\".format(i,yhat))\n",
    "        temp_input.extend(yhat[0].tolist())\n",
    "        temp_input=temp_input[1:]\n",
    "        # print(temp_input)\n",
    "        lst_output.extend(yhat.tolist())\n",
    "        i=i+1\n",
    "    else:\n",
    "        x_input = x_input.reshape((1, n_steps,1))\n",
    "        yhat = model.predict(x_input, verbose=0)\n",
    "        print(yhat[0])\n",
    "        temp_input.extend(yhat[0].tolist())\n",
    "        print(len(temp_input))\n",
    "        lst_output.extend(yhat.tolist())\n",
    "        i=i+1\n",
    "    \n",
    "\n",
    "print(lst_output)"
   ]
  },
  {
   "cell_type": "code",
   "execution_count": null,
   "metadata": {
    "execution": {
     "iopub.execute_input": "2021-06-06T18:25:09.638881Z",
     "iopub.status.busy": "2021-06-06T18:25:09.638487Z",
     "iopub.status.idle": "2021-06-06T18:25:09.645931Z",
     "shell.execute_reply": "2021-06-06T18:25:09.644864Z",
     "shell.execute_reply.started": "2021-06-06T18:25:09.638848Z"
    }
   },
   "outputs": [],
   "source": [
    "day_new=np.arange(1,101)"
   ]
  },
  {
   "cell_type": "code",
   "execution_count": null,
   "metadata": {
    "execution": {
     "iopub.execute_input": "2021-06-06T18:25:12.358972Z",
     "iopub.status.busy": "2021-06-06T18:25:12.358589Z",
     "iopub.status.idle": "2021-06-06T18:25:12.363425Z",
     "shell.execute_reply": "2021-06-06T18:25:12.362359Z",
     "shell.execute_reply.started": "2021-06-06T18:25:12.358940Z"
    }
   },
   "outputs": [],
   "source": [
    "day_pred=np.arange(101,131)"
   ]
  },
  {
   "cell_type": "code",
   "execution_count": null,
   "metadata": {
    "execution": {
     "iopub.execute_input": "2021-06-06T18:28:58.199392Z",
     "iopub.status.busy": "2021-06-06T18:28:58.199000Z",
     "iopub.status.idle": "2021-06-06T18:28:58.350818Z",
     "shell.execute_reply": "2021-06-06T18:28:58.349781Z",
     "shell.execute_reply.started": "2021-06-06T18:28:58.199357Z"
    }
   },
   "outputs": [],
   "source": [
    "plt.plot(day_new,scaler.inverse_transform(data1[1158:]) , color=\"green\")\n",
    "plt.plot(day_pred,scaler.inverse_transform(lst_output) , color = \"orange\")"
   ]
  },
  {
   "cell_type": "code",
   "execution_count": null,
   "metadata": {
    "execution": {
     "iopub.execute_input": "2021-06-06T18:28:49.724077Z",
     "iopub.status.busy": "2021-06-06T18:28:49.723691Z",
     "iopub.status.idle": "2021-06-06T18:28:49.853103Z",
     "shell.execute_reply": "2021-06-06T18:28:49.851954Z",
     "shell.execute_reply.started": "2021-06-06T18:28:49.724047Z"
    }
   },
   "outputs": [],
   "source": [
    "data3 = data1.tolist()\n",
    "data3.extend(lst_output)\n",
    "plt.plot(data3[1200:] , color = \"green\")"
   ]
  },
  {
   "cell_type": "code",
   "execution_count": null,
   "metadata": {},
   "outputs": [],
   "source": []
  }
 ],
 "metadata": {
  "kernelspec": {
   "display_name": "Python 3 (ipykernel)",
   "language": "python",
   "name": "python3"
  },
  "language_info": {
   "codemirror_mode": {
    "name": "ipython",
    "version": 3
   },
   "file_extension": ".py",
   "mimetype": "text/x-python",
   "name": "python",
   "nbconvert_exporter": "python",
   "pygments_lexer": "ipython3",
   "version": "3.10.9"
  }
 },
 "nbformat": 4,
 "nbformat_minor": 4
}
